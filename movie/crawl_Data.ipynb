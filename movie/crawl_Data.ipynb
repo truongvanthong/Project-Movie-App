{
 "cells": [
  {
   "cell_type": "code",
   "execution_count": 1,
   "metadata": {},
   "outputs": [],
   "source": [
    "# !pip install selenium\n",
    "# !pip install django\n",
    "# !pip install django-embed-video"
   ]
  },
  {
   "cell_type": "code",
   "execution_count": 1,
   "metadata": {},
   "outputs": [],
   "source": [
    "import csv\n",
    "import uuid\n",
    "from selenium import webdriver\n",
    "import time\n",
    "\n",
    "from selenium.webdriver.common.by import By\n",
    "from selenium.webdriver.chrome.service import Service\n",
    "from selenium.webdriver.common.keys import Keys\n",
    "import pandas as pd\n",
    "\n",
    "import requests\n",
    "import urllib\n",
    "import os\n",
    "\n",
    "import numpy as np"
   ]
  },
  {
   "cell_type": "code",
   "execution_count": 3,
   "metadata": {},
   "outputs": [],
   "source": [
    "# ----------------- Crawl data -----------------\n",
    "titles  = []\n",
    "years   = []\n",
    "genres  = []\n",
    "plots   = []\n",
    "posters = []\n",
    "ratings = []\n",
    "trailors= []\n",
    "\n",
    "data=[]\n",
    "link_films = []\n",
    "# ---------------------------------------------------"
   ]
  },
  {
   "cell_type": "code",
   "execution_count": null,
   "metadata": {},
   "outputs": [],
   "source": [
    "s=Service('C:/Users/Van Thong/Downloads/chromedriver.exe')\n",
    "driver = webdriver.Chrome(service=s) \n",
    "for i in range(1, 501):\n",
    "    driver.get('https://flixgo.up.railway.app/movies-catalog/')\n",
    "    your_input = driver.find_element(By.XPATH,'//div//ul/form[@method=\"post\"]//input[@id=\"page\"]')\n",
    "    your_input.clear()\n",
    "    your_input.send_keys(str(i))\n",
    "    your_input.send_keys(Keys.ENTER)\n",
    "    link_film=driver.find_elements(By.XPATH,\"//div//a[@class='card__play']\")\n",
    "    for link in link_film:\n",
    "        link = link.get_attribute(\"href\")\n",
    "        link_films.append({\"link\":link})\n",
    "driver.quit()\n",
    "print(link_films)"
   ]
  },
  {
   "cell_type": "code",
   "execution_count": null,
   "metadata": {},
   "outputs": [],
   "source": [
    "for i in link_films:\n",
    "    driver = webdriver.Chrome(service=s)\n",
    "    driver.get(i[\"link\"])\n",
    "    \n",
    "    driver.execute_script(\"document.querySelectorAll('body > section.section.details > div:nth-child(3) > div.row > div:nth-child(2) > div > div > div.col-12.col-sm-8.col-md-8.col-lg-9.col-xl-7 > div > ul > li:nth-child(1) > span').forEach(el => el.remove());\");\n",
    "\n",
    "    driver.execute_script(\"document.querySelectorAll('body > section.section.details > div:nth-child(3) > div.row > div:nth-child(2) > div > div > div.col-12.col-sm-8.col-md-8.col-lg-9.col-xl-7 > div > ul > li:nth-child(2) > span').forEach(el => el.remove());\");\n",
    "\n",
    "    # Lấy tên phim\n",
    "    title = driver.find_element(By.XPATH,\"//h1[@class='details__title']\").text\n",
    "   \n",
    "    # ------------------Lấy năm phát hành------------------\n",
    "    try:\n",
    "        year = driver.find_element(By.XPATH,\"/html/body/section[1]/div[3]/div[1]/div[2]/div/div/div[2]/div/ul/li[2]\").text\n",
    "        # Chỉ lấy mỗi năm\n",
    "        year = year.split(\"-\")[0]\n",
    "    except:\n",
    "        year = ''\n",
    "    years.append({'year': year})\n",
    "    # ------------------------------------------------------\n",
    "\n",
    "    # ---------------------Lấy thể loại phim---------------------\n",
    "    genre = driver.find_elements(By.XPATH,\"/html/body/section[1]/div[3]/div[1]/div[2]/div/div/div[2]/div/ul/li/a\")\n",
    "    temp_genres={'genre':[]}\n",
    "\n",
    "    for i in genre:\n",
    "        temp_genres['genre'].append(i.text)\n",
    "    genres_str = ', '.join(temp_genres['genre'])\n",
    "    new_dict = {'genre': genres_str}\n",
    "    genres.append(new_dict)\n",
    "    # --------------------------------------------------------------\n",
    "\n",
    "    # Lấy Overview\n",
    "    try:\n",
    "        plot = driver.find_element(By.XPATH,\"//div[@class='card__description card__description--details']\").text\n",
    "    except:\n",
    "        plot = ''\n",
    "    # Lấy đánh giá\n",
    "    try:\n",
    "        rating = driver.find_element(By.XPATH,\"//span[@class='card__rate']\").text\n",
    "    except:\n",
    "        rating = ''\n",
    "    # Lấy link poster \n",
    "    driver.execute_script(\"window.scrollTo(0, 990000)\")\n",
    "    poster = driver.find_element(By.XPATH,\"//div[@class='card__cover']//img\").get_attribute(\"src\")\n",
    "    \n",
    "    # Lấy link trailer link youtobe\n",
    "    # Nếu trailer không có thì sẽ trả về rổng\n",
    "    try:\n",
    "        trailor = driver.find_element(By.XPATH,\"//div[@class='col-12 col-xl-6']//iframe\").get_attribute(\"src\")\n",
    "    except:\n",
    "        trailor = None\n",
    "\n",
    "    # thêm vào list các dict tương ứng\n",
    "    titles.append({'title': title})\n",
    "    ratings.append({'rating': rating})\n",
    "    posters.append({'poster': poster})\n",
    "    plots.append({'plot': plot})\n",
    "    trailors.append({'trailor': trailor})\n",
    "\n",
    "    driver.close()"
   ]
  },
  {
   "cell_type": "code",
   "execution_count": null,
   "metadata": {},
   "outputs": [],
   "source": [
    "# Lưu dữ liệu trên vào file csv\n",
    "with open('data.csv', 'w', newline='', encoding='utf-8') as file:\n",
    "    writer = csv.writer(file)\n",
    "    writer.writerow(['title', 'year', 'genre', 'plot', 'poster', 'rating', 'trailor'])\n",
    "    for i in range(len(titles)):\n",
    "        writer.writerow([titles[i]['title'], years[i]['year'], genres[i]['genre'], plots[i]['plot'], posters[i]['poster'], ratings[i]['rating'], trailors[i]['trailor']])\n"
   ]
  },
  {
   "cell_type": "code",
   "execution_count": 2,
   "metadata": {},
   "outputs": [
    {
     "data": {
      "text/html": [
       "<div>\n",
       "<style scoped>\n",
       "    .dataframe tbody tr th:only-of-type {\n",
       "        vertical-align: middle;\n",
       "    }\n",
       "\n",
       "    .dataframe tbody tr th {\n",
       "        vertical-align: top;\n",
       "    }\n",
       "\n",
       "    .dataframe thead th {\n",
       "        text-align: right;\n",
       "    }\n",
       "</style>\n",
       "<table border=\"1\" class=\"dataframe\">\n",
       "  <thead>\n",
       "    <tr style=\"text-align: right;\">\n",
       "      <th></th>\n",
       "      <th>title</th>\n",
       "      <th>year</th>\n",
       "      <th>genre</th>\n",
       "      <th>plot</th>\n",
       "      <th>poster</th>\n",
       "      <th>rating</th>\n",
       "      <th>trailor</th>\n",
       "    </tr>\n",
       "  </thead>\n",
       "  <tbody>\n",
       "    <tr>\n",
       "      <th>0</th>\n",
       "      <td>Master of the Drunken Fist: Beggar So</td>\n",
       "      <td>2016</td>\n",
       "      <td>Action</td>\n",
       "      <td>Due to a conspiracy, the wealthy So Chan loses...</td>\n",
       "      <td>https://image.tmdb.org/t/p/w500//82TPqtDsJObgS...</td>\n",
       "      <td>6.0</td>\n",
       "      <td>https://www.youtube.com/embed/lcR_3CBkfcY</td>\n",
       "    </tr>\n",
       "    <tr>\n",
       "      <th>1</th>\n",
       "      <td>Sanjay's Super Team</td>\n",
       "      <td>2015</td>\n",
       "      <td>Animation, Family, Fantasy, Action</td>\n",
       "      <td>SANJAY'S SUPER TEAM follows the daydream of a ...</td>\n",
       "      <td>https://image.tmdb.org/t/p/w500//mShcGzOctlq6z...</td>\n",
       "      <td>6.5</td>\n",
       "      <td>https://www.youtube.com/embed/222ztGhX4SE</td>\n",
       "    </tr>\n",
       "    <tr>\n",
       "      <th>2</th>\n",
       "      <td>The Challenger</td>\n",
       "      <td>2015</td>\n",
       "      <td>Action, Drama</td>\n",
       "      <td>A legendary trainer comes out of retirement to...</td>\n",
       "      <td>https://image.tmdb.org/t/p/w500//2fXLdmdIWYX2k...</td>\n",
       "      <td>6.1</td>\n",
       "      <td>https://www.youtube.com/embed/XNKX3pVGovs</td>\n",
       "    </tr>\n",
       "    <tr>\n",
       "      <th>3</th>\n",
       "      <td>Doc West II</td>\n",
       "      <td>2009</td>\n",
       "      <td>Western, Action, Thriller</td>\n",
       "      <td>A legendary poker playing outlaw, Triggerman, ...</td>\n",
       "      <td>https://image.tmdb.org/t/p/w500//kH7HeXi8GbZuN...</td>\n",
       "      <td>6.2</td>\n",
       "      <td>https://www.youtube.com/embed/None</td>\n",
       "    </tr>\n",
       "    <tr>\n",
       "      <th>4</th>\n",
       "      <td>Aces High</td>\n",
       "      <td>1976</td>\n",
       "      <td>Action, Drama, War</td>\n",
       "      <td>NaN</td>\n",
       "      <td>https://image.tmdb.org/t/p/w500//a0KjutaTqDwqH...</td>\n",
       "      <td>5.8</td>\n",
       "      <td>https://www.youtube.com/embed/fFC5EdYGUi8</td>\n",
       "    </tr>\n",
       "  </tbody>\n",
       "</table>\n",
       "</div>"
      ],
      "text/plain": [
       "                                   title  year   \n",
       "0  Master of the Drunken Fist: Beggar So  2016  \\\n",
       "1                    Sanjay's Super Team  2015   \n",
       "2                         The Challenger  2015   \n",
       "3                            Doc West II  2009   \n",
       "4                              Aces High  1976   \n",
       "\n",
       "                                genre   \n",
       "0                              Action  \\\n",
       "1  Animation, Family, Fantasy, Action   \n",
       "2                       Action, Drama   \n",
       "3           Western, Action, Thriller   \n",
       "4                  Action, Drama, War   \n",
       "\n",
       "                                                plot   \n",
       "0  Due to a conspiracy, the wealthy So Chan loses...  \\\n",
       "1  SANJAY'S SUPER TEAM follows the daydream of a ...   \n",
       "2  A legendary trainer comes out of retirement to...   \n",
       "3  A legendary poker playing outlaw, Triggerman, ...   \n",
       "4                                                NaN   \n",
       "\n",
       "                                              poster  rating   \n",
       "0  https://image.tmdb.org/t/p/w500//82TPqtDsJObgS...     6.0  \\\n",
       "1  https://image.tmdb.org/t/p/w500//mShcGzOctlq6z...     6.5   \n",
       "2  https://image.tmdb.org/t/p/w500//2fXLdmdIWYX2k...     6.1   \n",
       "3  https://image.tmdb.org/t/p/w500//kH7HeXi8GbZuN...     6.2   \n",
       "4  https://image.tmdb.org/t/p/w500//a0KjutaTqDwqH...     5.8   \n",
       "\n",
       "                                     trailor  \n",
       "0  https://www.youtube.com/embed/lcR_3CBkfcY  \n",
       "1  https://www.youtube.com/embed/222ztGhX4SE  \n",
       "2  https://www.youtube.com/embed/XNKX3pVGovs  \n",
       "3         https://www.youtube.com/embed/None  \n",
       "4  https://www.youtube.com/embed/fFC5EdYGUi8  "
      ]
     },
     "execution_count": 2,
     "metadata": {},
     "output_type": "execute_result"
    }
   ],
   "source": [
    "# Đọc file csv\n",
    "df = pd.read_csv('data_done.csv', encoding='utf-8')\n",
    "df.head()"
   ]
  },
  {
   "attachments": {},
   "cell_type": "markdown",
   "metadata": {},
   "source": [
    "`Chuyển đổi kiểu dữ liệu của cột 'year' sang kiểu số nguyên (integer)`"
   ]
  },
  {
   "cell_type": "code",
   "execution_count": 7,
   "metadata": {},
   "outputs": [],
   "source": [
    "df = df.dropna(subset=['year'])\n",
    "df = df.replace([np.inf, -np.inf], np.nan)\n",
    "df = df.dropna(subset=['year'])\n",
    "\n",
    "df['year'] = df['year'].astype(int) "
   ]
  },
  {
   "attachments": {},
   "cell_type": "markdown",
   "metadata": {},
   "source": [
    "`Kiểm tra df có giá trị trùng không xóa các dữ liệu trùng đó`\n"
   ]
  },
  {
   "cell_type": "code",
   "execution_count": 4,
   "metadata": {},
   "outputs": [
    {
     "data": {
      "text/plain": [
       "8950"
      ]
     },
     "execution_count": 4,
     "metadata": {},
     "output_type": "execute_result"
    }
   ],
   "source": [
    "df.duplicated(subset=['title', 'year']).sum()\n",
    "df = df.drop_duplicates(subset=['title', 'year'], keep='first')\n",
    "len(df)"
   ]
  }
 ],
 "metadata": {
  "kernelspec": {
   "display_name": "Python 3",
   "language": "python",
   "name": "python3"
  },
  "language_info": {
   "codemirror_mode": {
    "name": "ipython",
    "version": 3
   },
   "file_extension": ".py",
   "mimetype": "text/x-python",
   "name": "python",
   "nbconvert_exporter": "python",
   "pygments_lexer": "ipython3",
   "version": "3.9.13"
  },
  "orig_nbformat": 4
 },
 "nbformat": 4,
 "nbformat_minor": 2
}
