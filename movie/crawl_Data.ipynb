{
 "cells": [
  {
   "cell_type": "code",
   "execution_count": 1,
   "metadata": {},
   "outputs": [],
   "source": [
    "# !pip install selenium\n",
    "# !pip install django\n",
    "# !pip install django-embed-video"
   ]
  },
  {
   "cell_type": "code",
   "execution_count": 1,
   "metadata": {},
   "outputs": [],
   "source": [
    "import csv\n",
    "import uuid\n",
    "from selenium import webdriver\n",
    "import time\n",
    "\n",
    "from selenium.webdriver.common.by import By\n",
    "from selenium.webdriver.chrome.service import Service\n",
    "from selenium.webdriver.common.keys import Keys\n",
    "import pandas as pd\n",
    "\n",
    "import requests\n",
    "import urllib\n",
    "import os\n",
    "\n",
    "import numpy as np"
   ]
  },
  {
   "cell_type": "code",
   "execution_count": 3,
   "metadata": {},
   "outputs": [],
   "source": [
    "# ----------------- Crawl data -----------------\n",
    "titles  = []\n",
    "years   = []\n",
    "genres  = []\n",
    "plots   = []\n",
    "posters = []\n",
    "ratings = []\n",
    "trailors= []\n",
    "\n",
    "data=[]\n",
    "link_films = []\n",
    "# ---------------------------------------------------"
   ]
  },
  {
   "cell_type": "code",
   "execution_count": null,
   "metadata": {},
   "outputs": [],
   "source": [
    "s=Service('C:/Users/Van Thong/Downloads/chromedriver.exe')\n",
    "driver = webdriver.Chrome(service=s) \n",
    "for i in range(1, 501):\n",
    "    driver.get('https://flixgo.up.railway.app/movies-catalog/')\n",
    "    your_input = driver.find_element(By.XPATH,'//div//ul/form[@method=\"post\"]//input[@id=\"page\"]')\n",
    "    your_input.clear()\n",
    "    your_input.send_keys(str(i))\n",
    "    your_input.send_keys(Keys.ENTER)\n",
    "    link_film=driver.find_elements(By.XPATH,\"//div//a[@class='card__play']\")\n",
    "    for link in link_film:\n",
    "        link = link.get_attribute(\"href\")\n",
    "        link_films.append({\"link\":link})\n",
    "driver.quit()\n",
    "print(link_films)"
   ]
  },
  {
   "cell_type": "code",
   "execution_count": null,
   "metadata": {},
   "outputs": [],
   "source": [
    "for i in link_films:\n",
    "    driver = webdriver.Chrome(service=s)\n",
    "    driver.get(i[\"link\"])\n",
    "    \n",
    "    driver.execute_script(\"document.querySelectorAll('body > section.section.details > div:nth-child(3) > div.row > div:nth-child(2) > div > div > div.col-12.col-sm-8.col-md-8.col-lg-9.col-xl-7 > div > ul > li:nth-child(1) > span').forEach(el => el.remove());\");\n",
    "\n",
    "    driver.execute_script(\"document.querySelectorAll('body > section.section.details > div:nth-child(3) > div.row > div:nth-child(2) > div > div > div.col-12.col-sm-8.col-md-8.col-lg-9.col-xl-7 > div > ul > li:nth-child(2) > span').forEach(el => el.remove());\");\n",
    "\n",
    "    # Lấy tên phim\n",
    "    title = driver.find_element(By.XPATH,\"//h1[@class='details__title']\").text\n",
    "   \n",
    "    # ------------------Lấy năm phát hành------------------\n",
    "    try:\n",
    "        year = driver.find_element(By.XPATH,\"/html/body/section[1]/div[3]/div[1]/div[2]/div/div/div[2]/div/ul/li[2]\").text\n",
    "        # Chỉ lấy mỗi năm\n",
    "        year = year.split(\"-\")[0]\n",
    "    except:\n",
    "        year = ''\n",
    "    years.append({'year': year})\n",
    "    # ------------------------------------------------------\n",
    "\n",
    "    # ---------------------Lấy thể loại phim---------------------\n",
    "    genre = driver.find_elements(By.XPATH,\"/html/body/section[1]/div[3]/div[1]/div[2]/div/div/div[2]/div/ul/li/a\")\n",
    "    temp_genres={'genre':[]}\n",
    "\n",
    "    for i in genre:\n",
    "        temp_genres['genre'].append(i.text)\n",
    "    genres_str = ', '.join(temp_genres['genre'])\n",
    "    new_dict = {'genre': genres_str}\n",
    "    genres.append(new_dict)\n",
    "    # --------------------------------------------------------------\n",
    "\n",
    "    # Lấy Overview\n",
    "    try:\n",
    "        plot = driver.find_element(By.XPATH,\"//div[@class='card__description card__description--details']\").text\n",
    "    except:\n",
    "        plot = ''\n",
    "    # Lấy đánh giá\n",
    "    try:\n",
    "        rating = driver.find_element(By.XPATH,\"//span[@class='card__rate']\").text\n",
    "    except:\n",
    "        rating = ''\n",
    "    # Lấy link poster \n",
    "    driver.execute_script(\"window.scrollTo(0, 990000)\")\n",
    "    poster = driver.find_element(By.XPATH,\"//div[@class='card__cover']//img\").get_attribute(\"src\")\n",
    "    \n",
    "    # Lấy link trailer link youtobe\n",
    "    # Nếu trailer không có thì sẽ trả về rổng\n",
    "    try:\n",
    "        trailor = driver.find_element(By.XPATH,\"//div[@class='col-12 col-xl-6']//iframe\").get_attribute(\"src\")\n",
    "    except:\n",
    "        trailor = None\n",
    "\n",
    "    # thêm vào list các dict tương ứng\n",
    "    titles.append({'title': title})\n",
    "    ratings.append({'rating': rating})\n",
    "    posters.append({'poster': poster})\n",
    "    plots.append({'plot': plot})\n",
    "    trailors.append({'trailor': trailor})\n",
    "\n",
    "    driver.close()"
   ]
  },
  {
   "cell_type": "code",
   "execution_count": null,
   "metadata": {},
   "outputs": [],
   "source": [
    "# Lưu dữ liệu trên vào file csv\n",
    "with open('data.csv', 'w', newline='', encoding='utf-8') as file:\n",
    "    writer = csv.writer(file)\n",
    "    writer.writerow(['title', 'year', 'genre', 'plot', 'poster', 'rating', 'trailor'])\n",
    "    for i in range(len(titles)):\n",
    "        writer.writerow([titles[i]['title'], years[i]['year'], genres[i]['genre'], plots[i]['plot'], posters[i]['poster'], ratings[i]['rating'], trailors[i]['trailor']])\n"
   ]
  },
  {
   "cell_type": "code",
   "execution_count": 1,
   "metadata": {},
   "outputs": [],
   "source": [
    "import pandas as pd"
   ]
  },
  {
   "cell_type": "code",
   "execution_count": 3,
   "metadata": {},
   "outputs": [
    {
     "data": {
      "text/plain": [
       "8950"
      ]
     },
     "execution_count": 3,
     "metadata": {},
     "output_type": "execute_result"
    }
   ],
   "source": [
    "# Đọc file csv\n",
    "df = pd.read_csv('data_done.csv', encoding='utf-8')\n",
    "len(df)"
   ]
  },
  {
   "cell_type": "code",
   "execution_count": 5,
   "metadata": {},
   "outputs": [
    {
     "data": {
      "text/plain": [
       "8655"
      ]
     },
     "execution_count": 5,
     "metadata": {},
     "output_type": "execute_result"
    }
   ],
   "source": [
    "# Lọc các dữ liệu trùng lặp\n",
    "df = df.drop_duplicates(subset=['title'])\n",
    "len(df)"
   ]
  },
  {
   "cell_type": "code",
   "execution_count": 6,
   "metadata": {},
   "outputs": [],
   "source": [
    "# Lưu dữ liệu vào file csv\n",
    "df.to_csv('data_done_NEW.csv', index=False)\n"
   ]
  },
  {
   "cell_type": "code",
   "execution_count": 7,
   "metadata": {},
   "outputs": [
    {
     "data": {
      "text/plain": [
       "8654"
      ]
     },
     "execution_count": 7,
     "metadata": {},
     "output_type": "execute_result"
    }
   ],
   "source": [
    "# Lọc các title có len trên 100 ký tự\n",
    "df = df[df['title'].str.len() < 100]\n",
    "len(df)"
   ]
  },
  {
   "cell_type": "code",
   "execution_count": 8,
   "metadata": {},
   "outputs": [],
   "source": [
    "df.to_csv('data_done_NEW_1.csv', index=False)"
   ]
  },
  {
   "attachments": {},
   "cell_type": "markdown",
   "metadata": {},
   "source": [
    "`Chuyển đổi kiểu dữ liệu của cột 'year' sang kiểu số nguyên (integer)`"
   ]
  },
  {
   "cell_type": "code",
   "execution_count": 7,
   "metadata": {},
   "outputs": [],
   "source": [
    "df = df.dropna(subset=['year'])\n",
    "df = df.replace([np.inf, -np.inf], np.nan)\n",
    "df = df.dropna(subset=['year'])\n",
    "\n",
    "df['year'] = df['year'].astype(int) "
   ]
  },
  {
   "attachments": {},
   "cell_type": "markdown",
   "metadata": {},
   "source": [
    "`Kiểm tra df có giá trị trùng không xóa các dữ liệu trùng đó`\n"
   ]
  },
  {
   "cell_type": "code",
   "execution_count": 4,
   "metadata": {},
   "outputs": [
    {
     "data": {
      "text/plain": [
       "8950"
      ]
     },
     "execution_count": 4,
     "metadata": {},
     "output_type": "execute_result"
    }
   ],
   "source": [
    "df.duplicated(subset=['title', 'year']).sum()\n",
    "df = df.drop_duplicates(subset=['title', 'year'], keep='first')\n",
    "len(df)"
   ]
  }
 ],
 "metadata": {
  "kernelspec": {
   "display_name": "Python 3",
   "language": "python",
   "name": "python3"
  },
  "language_info": {
   "codemirror_mode": {
    "name": "ipython",
    "version": 3
   },
   "file_extension": ".py",
   "mimetype": "text/x-python",
   "name": "python",
   "nbconvert_exporter": "python",
   "pygments_lexer": "ipython3",
   "version": "3.9.7"
  },
  "orig_nbformat": 4
 },
 "nbformat": 4,
 "nbformat_minor": 2
}
